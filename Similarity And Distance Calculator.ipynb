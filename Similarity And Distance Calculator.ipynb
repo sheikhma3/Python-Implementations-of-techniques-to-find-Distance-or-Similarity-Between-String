{
 "cells": [
  {
   "cell_type": "code",
   "execution_count": 2,
   "metadata": {
    "collapsed": true
   },
   "outputs": [],
   "source": [
    "import math\n",
    "import numpy as np"
   ]
  },
  {
   "cell_type": "code",
   "execution_count": 3,
   "metadata": {
    "collapsed": true
   },
   "outputs": [],
   "source": [
    "def eclidian(vec1,vec2):\n",
    "    #print(vec1)\n",
    "    #print(vec2)\n",
    "    dist=math.sqrt(sum([(a - b) ** 2 for a, b in zip(vec1, vec2)]))\n",
    "    return dist"
   ]
  },
  {
   "cell_type": "code",
   "execution_count": 4,
   "metadata": {
    "collapsed": true
   },
   "outputs": [],
   "source": [
    "def manhattan(vec1,vec2):\n",
    "    dist=sum([np.abs(a - b) for a, b in zip(vec1, vec2)])\n",
    "    return dist"
   ]
  },
  {
   "cell_type": "code",
   "execution_count": 5,
   "metadata": {
    "collapsed": true
   },
   "outputs": [],
   "source": [
    "def Chebychef(vec1,vec2):\n",
    "    dist= np.max(np.absolute(np.array(vec1) - np.array(vec2)))\n",
    "    return dist"
   ]
  },
  {
   "cell_type": "code",
   "execution_count": 6,
   "metadata": {
    "collapsed": true
   },
   "outputs": [],
   "source": [
    "def cosine_similarity(v1,v2):\n",
    "    sumxx, sumxy, sumyy = 0, 0, 0\n",
    "    for i in range(len(v1)):\n",
    "        x = v1[i]; y = v2[i]\n",
    "        sumxx += x*x\n",
    "        sumyy += y*y\n",
    "        sumxy += x*y\n",
    "    return sumxy/math.sqrt(sumxx*sumyy)"
   ]
  },
  {
   "cell_type": "code",
   "execution_count": 7,
   "metadata": {
    "collapsed": true
   },
   "outputs": [],
   "source": [
    "def make_bigram(word):\n",
    "    bigram_list=list()\n",
    "    for i in range(1,len(word)):\n",
    "        bigram=word[i-1:i+1]\n",
    "        #print(bigram)\n",
    "        bigram_list.append(bigram)\n",
    "    return bigram_list\n",
    "        "
   ]
  },
  {
   "cell_type": "code",
   "execution_count": 8,
   "metadata": {},
   "outputs": [
    {
     "data": {
      "text/plain": [
       "['ma', 'at', 'te', 'ee', 'en']"
      ]
     },
     "execution_count": 8,
     "metadata": {},
     "output_type": "execute_result"
    }
   ],
   "source": [
    "make_bigram('mateen')"
   ]
  },
  {
   "cell_type": "code",
   "execution_count": 9,
   "metadata": {
    "collapsed": true
   },
   "outputs": [],
   "source": [
    "def Jaccard_similarity(v1,v2):\n",
    "    v1_bigram=make_bigram(v1)\n",
    "    v2_bigram=make_bigram(v2)\n",
    "    dist=len(set(v1_bigram).intersection(set(v2_bigram)))/len(set(v1_bigram).union(set(v2_bigram)))\n",
    "    return dist"
   ]
  },
  {
   "cell_type": "code",
   "execution_count": 82,
   "metadata": {
    "collapsed": true
   },
   "outputs": [],
   "source": [
    "def Hamming_Dist(str1,str2):\n",
    "    dist=0.0\n",
    "    str1_set=set()\n",
    "    str2_set=set()\n",
    "    for i in range(0,len(str1)):\n",
    "        str1_set.add(str1[i])\n",
    "    #print(str1_set)\n",
    "    for i in range(0,len(str2)):\n",
    "        str2_set.add(str2[i])\n",
    "    #print(str2_set)\n",
    "    Num_of_same_char=len(str1_set.intersection(str2_set))\n",
    "    #print(Num_of_same_char)\n",
    "    if len(str1_set)>=len(str2_set):\n",
    "        dist=len(str1_set)-Num_of_same_char\n",
    "        #print(len(str1_set))\n",
    "    if len(str2_set)>len(str1_set):\n",
    "        dist=len(str2_set)-Num_of_same_char\n",
    "    \n",
    "    return dist\n",
    "    "
   ]
  },
  {
   "cell_type": "code",
   "execution_count": null,
   "metadata": {
    "collapsed": true
   },
   "outputs": [],
   "source": []
  },
  {
   "cell_type": "code",
   "execution_count": null,
   "metadata": {
    "collapsed": true
   },
   "outputs": [],
   "source": []
  },
  {
   "cell_type": "code",
   "execution_count": 83,
   "metadata": {
    "collapsed": true
   },
   "outputs": [],
   "source": [
    "def MED(source,target):    \n",
    "    del_cost=1\n",
    "    ins_cost=1\n",
    "    sub_cost=2\n",
    "    n= len(source)\n",
    "    m= len(target)\n",
    "    MED_Matrix= np.zeros((n+1,m+1), dtype='int32')\n",
    "    for i in range(1,n+1):\n",
    "        MED_Matrix[i][0]=MED_Matrix[i-1][0]+del_cost\n",
    "    for i in range(1,m+1):\n",
    "        MED_Matrix[0][i]=MED_Matrix[0][i-1]+del_cost   \n",
    "    for i in range(1,n+1):\n",
    "        for j in range(1,m+1):\n",
    "            if(source[i-1]==target[j-1]):\n",
    "                MED_Matrix[i][j]=min([MED_Matrix[i-1][j]+del_cost,MED_Matrix[i-1][j-1]+0,MED_Matrix[i][j-1]+ins_cost])\n",
    "            else:\n",
    "                MED_Matrix[i][j]=min([MED_Matrix[i-1][j]+del_cost,MED_Matrix[i-1][j-1]+sub_cost,MED_Matrix[i][j-1]+ins_cost])\n",
    "    #print(np.matrix(MED_Matrix))\n",
    "    #print(MED_Matrix[n][m])\n",
    "    return MED_Matrix[n][m]"
   ]
  },
  {
   "cell_type": "code",
   "execution_count": 96,
   "metadata": {
    "collapsed": true
   },
   "outputs": [],
   "source": [
    "def longestsubseq(str1 , str2): \n",
    "\n",
    "    m = len(str1) \n",
    "    n = len(str2) \n",
    "    L = [[None]*(n+1) for i in range(m+1)] \n",
    "    for i in range(m+1): \n",
    "        for j in range(n+1): \n",
    "            if i == 0 or j == 0 : \n",
    "                L[i][j] = 0\n",
    "            elif str1[i-1] == str2[j-1]: \n",
    "                L[i][j] = L[i-1][j-1]+1\n",
    "            else: \n",
    "                L[i][j] = max(L[i-1][j] , L[i][j-1]) \n",
    "  \n",
    "    \n",
    "    return L[m][n] "
   ]
  },
  {
   "cell_type": "code",
   "execution_count": 98,
   "metadata": {},
   "outputs": [
    {
     "data": {
      "text/plain": [
       "5"
      ]
     },
     "execution_count": 98,
     "metadata": {},
     "output_type": "execute_result"
    }
   ],
   "source": [
    "longestsubseq('abcdefghi','ceafgijkl')"
   ]
  },
  {
   "cell_type": "code",
   "execution_count": 99,
   "metadata": {
    "collapsed": true
   },
   "outputs": [],
   "source": [
    "def find_dist(str1,str2,func_name):\n",
    "    dist=0.0\n",
    "    x=str1\n",
    "    y=str2\n",
    "    set1=set()\n",
    "    for a in range(0,len(x)):\n",
    "        set1.add(x[a])\n",
    "    for a in range(0,len(y)):\n",
    "        set1.add(y[a])\n",
    "    vec1=[None]*len(set1)\n",
    "    vec2=[None]*len(set1)\n",
    "    for counter,each_char in enumerate(set1):\n",
    "        #print(counter)\n",
    "        #print(each_char)\n",
    "        vec1[counter]=x.count(each_char)\n",
    "        vec2[counter]=y.count(each_char)\n",
    "    if(func_name=='eclidian'):\n",
    "        dist=eclidian(vec1,vec2)\n",
    "    if(func_name=='manhattan'):\n",
    "        dist=manhattan(vec1,vec2)\n",
    "    if(func_name=='Chebychef'):\n",
    "        dist=Chebychef(vec1,vec2)\n",
    "    if(func_name=='cosine_similarity'):\n",
    "        dist=cosine_similarity(vec1,vec2)\n",
    "    if(func_name=='Jaccard_similarity'):\n",
    "        dist=Jaccard_similarity(str1,str2)\n",
    "    if(func_name=='Hamming_Dist'):\n",
    "        dist=Hamming_Dist(str1,str2)\n",
    "    if(func_name=='MED'):\n",
    "        dist= MED(str1,str2)\n",
    "    if(func_name=='longestsubseq'):\n",
    "        dist= longestsubseq(str1,str2)\n",
    "    return dist\n",
    "        \n",
    "        "
   ]
  },
  {
   "cell_type": "code",
   "execution_count": 100,
   "metadata": {
    "collapsed": true
   },
   "outputs": [],
   "source": [
    "func_list=['eclidian','manhattan','Chebychef','cosine_similarity','Jaccard_similarity','Hamming_Dist','MED','longestsubseq']"
   ]
  },
  {
   "cell_type": "code",
   "execution_count": 101,
   "metadata": {},
   "outputs": [
    {
     "data": {
      "text/plain": [
       "2.449489742783178"
      ]
     },
     "execution_count": 101,
     "metadata": {},
     "output_type": "execute_result"
    }
   ],
   "source": [
    "find_dist('this is cat','that is dog','eclidian')"
   ]
  },
  {
   "cell_type": "code",
   "execution_count": null,
   "metadata": {
    "collapsed": true
   },
   "outputs": [],
   "source": [
    "def run_all_dist_measures(str01,str02):\n",
    "    min=1000000.0\n",
    "    min_func=''\n",
    "    for func in func_list:\n",
    "        dist=find_dist(str01,str02,func)\n",
    "        if min > dist:\n",
    "            min=dist\n",
    "            min_func=func\n",
    "        print(str01,' ', str02,'               ','function Name: ',func,' Value ',dist)\n",
    "    print('Minimum Value for ',str01, ' & ',str02, ' is ',min,  ' of ', min_func)\n",
    "    "
   ]
  },
  {
   "cell_type": "code",
   "execution_count": null,
   "metadata": {
    "collapsed": true
   },
   "outputs": [],
   "source": []
  },
  {
   "cell_type": "markdown",
   "metadata": {},
   "source": [
    "## DataSet1\n"
   ]
  },
  {
   "cell_type": "code",
   "execution_count": 168,
   "metadata": {
    "collapsed": true
   },
   "outputs": [],
   "source": [
    "G1_S1 = 'weight 1.3 length 2.7'\n",
    "G1_S2 = 'weight 2.3 length 3.1'\n",
    "G1_S3 = 'weight 2.5 length 3.8'\n",
    "G1_S4 = 'weight 2.0 length 3.1'\n",
    "G1_S5 = 'weight 1.3 length 1.3'"
   ]
  },
  {
   "cell_type": "code",
   "execution_count": 169,
   "metadata": {
    "collapsed": true
   },
   "outputs": [],
   "source": [
    "G2_S1 = 'weight 6.6 length 6.2'\n",
    "G2_S2 = 'weight 6.3 length 5.4'\n",
    "G2_S3 = 'weight 6.6 length 6.0'\n",
    "G2_S4 = 'weight 6.5 length 6.4'\n",
    "G2_S5 = 'weight 6.3 length 5.8'"
   ]
  },
  {
   "cell_type": "code",
   "execution_count": 170,
   "metadata": {
    "collapsed": true
   },
   "outputs": [],
   "source": [
    "G3_S1 = 'weight 9.7 length 9.9'\n",
    "G3_S2 = 'weight 8.0 length 8.3'\n",
    "G3_S3 = 'weight 9.5 length 9.9'\n",
    "G3_S4 = 'weight 8.9 length 8.9'\n",
    "G3_S5 = 'weight 8.7 length 9.5'"
   ]
  },
  {
   "cell_type": "code",
   "execution_count": null,
   "metadata": {
    "collapsed": true
   },
   "outputs": [],
   "source": []
  },
  {
   "cell_type": "code",
   "execution_count": 171,
   "metadata": {},
   "outputs": [
    {
     "name": "stdout",
     "output_type": "stream",
     "text": [
      "weight 1.3 length 2.7   weight 2.3 length 3.1                 function Name:  eclidian  Value  1.4142135623730951\n",
      "weight 1.3 length 2.7   weight 2.3 length 3.1                 function Name:  manhattan  Value  2\n",
      "weight 1.3 length 2.7   weight 2.3 length 3.1                 function Name:  Chebychef  Value  1\n",
      "weight 1.3 length 2.7   weight 2.3 length 3.1                 function Name:  cosine_similarity  Value  0.9740215340114143\n",
      "weight 1.3 length 2.7   weight 2.3 length 3.1                 function Name:  Jaccard_similarity  Value  0.7391304347826086\n",
      "weight 1.3 length 2.7   weight 2.3 length 3.1                 function Name:  Hamming_Dist  Value  1\n",
      "weight 1.3 length 2.7   weight 2.3 length 3.1                 function Name:  MED  Value  6\n",
      "weight 1.3 length 2.7   weight 2.3 length 3.1                 function Name:  longestsubseq  Value  18\n",
      "Minimum Value for  weight 1.3 length 2.7  &  weight 2.3 length 3.1  is  0.7391304347826086  of  Jaccard_similarity\n",
      "weight 2.0 length 3.1   weight 1.3 length 2.7                 function Name:  eclidian  Value  1.4142135623730951\n",
      "weight 2.0 length 3.1   weight 1.3 length 2.7                 function Name:  manhattan  Value  2\n",
      "weight 2.0 length 3.1   weight 1.3 length 2.7                 function Name:  Chebychef  Value  1\n",
      "weight 2.0 length 3.1   weight 1.3 length 2.7                 function Name:  cosine_similarity  Value  0.972972972972973\n",
      "weight 2.0 length 3.1   weight 1.3 length 2.7                 function Name:  Jaccard_similarity  Value  0.6\n",
      "weight 2.0 length 3.1   weight 1.3 length 2.7                 function Name:  Hamming_Dist  Value  1\n",
      "weight 2.0 length 3.1   weight 1.3 length 2.7                 function Name:  MED  Value  8\n",
      "weight 2.0 length 3.1   weight 1.3 length 2.7                 function Name:  longestsubseq  Value  17\n",
      "Minimum Value for  weight 2.0 length 3.1  &  weight 1.3 length 2.7  is  0.6  of  Jaccard_similarity\n",
      "weight 1.3 length 1.3   weight 2.5 length 3.8                 function Name:  eclidian  Value  2.8284271247461903\n",
      "weight 1.3 length 1.3   weight 2.5 length 3.8                 function Name:  manhattan  Value  6\n",
      "weight 1.3 length 1.3   weight 2.5 length 3.8                 function Name:  Chebychef  Value  2\n",
      "weight 1.3 length 1.3   weight 2.5 length 3.8                 function Name:  cosine_similarity  Value  0.8986182904354194\n",
      "weight 1.3 length 1.3   weight 2.5 length 3.8                 function Name:  Jaccard_similarity  Value  0.5416666666666666\n",
      "weight 1.3 length 1.3   weight 2.5 length 3.8                 function Name:  Hamming_Dist  Value  3\n",
      "weight 1.3 length 1.3   weight 2.5 length 3.8                 function Name:  MED  Value  8\n",
      "weight 1.3 length 1.3   weight 2.5 length 3.8                 function Name:  longestsubseq  Value  17\n",
      "Minimum Value for  weight 1.3 length 1.3  &  weight 2.5 length 3.8  is  0.5416666666666666  of  Jaccard_similarity\n",
      "weight 6.6 length 6.2   weight 6.3 length 5.4                 function Name:  eclidian  Value  2.8284271247461903\n",
      "weight 6.6 length 6.2   weight 6.3 length 5.4                 function Name:  manhattan  Value  6\n",
      "weight 6.6 length 6.2   weight 6.3 length 5.4                 function Name:  Chebychef  Value  2\n",
      "weight 6.6 length 6.2   weight 6.3 length 5.4                 function Name:  cosine_similarity  Value  0.9025419790150203\n",
      "weight 6.6 length 6.2   weight 6.3 length 5.4                 function Name:  Jaccard_similarity  Value  0.6521739130434783\n",
      "weight 6.6 length 6.2   weight 6.3 length 5.4                 function Name:  Hamming_Dist  Value  3\n",
      "weight 6.6 length 6.2   weight 6.3 length 5.4                 function Name:  MED  Value  6\n",
      "weight 6.6 length 6.2   weight 6.3 length 5.4                 function Name:  longestsubseq  Value  18\n",
      "Minimum Value for  weight 6.6 length 6.2  &  weight 6.3 length 5.4  is  0.6521739130434783  of  Jaccard_similarity\n",
      "weight 6.5 length 6.4   weight 6.6 length 6.0                 function Name:  eclidian  Value  2.0\n",
      "weight 6.5 length 6.4   weight 6.6 length 6.0                 function Name:  manhattan  Value  4\n",
      "weight 6.5 length 6.4   weight 6.6 length 6.0                 function Name:  Chebychef  Value  1\n",
      "weight 6.5 length 6.4   weight 6.6 length 6.0                 function Name:  cosine_similarity  Value  0.9523532664857334\n",
      "weight 6.5 length 6.4   weight 6.6 length 6.0                 function Name:  Jaccard_similarity  Value  0.7142857142857143\n",
      "weight 6.5 length 6.4   weight 6.6 length 6.0                 function Name:  Hamming_Dist  Value  2\n",
      "weight 6.5 length 6.4   weight 6.6 length 6.0                 function Name:  MED  Value  4\n",
      "weight 6.5 length 6.4   weight 6.6 length 6.0                 function Name:  longestsubseq  Value  19\n",
      "Minimum Value for  weight 6.5 length 6.4  &  weight 6.6 length 6.0  is  0.7142857142857143  of  Jaccard_similarity\n",
      "weight 6.3 length 5.8   weight 6.5 length 6.4                 function Name:  eclidian  Value  2.0\n",
      "weight 6.3 length 5.8   weight 6.5 length 6.4                 function Name:  manhattan  Value  4\n",
      "weight 6.3 length 5.8   weight 6.5 length 6.4                 function Name:  Chebychef  Value  1\n",
      "weight 6.3 length 5.8   weight 6.5 length 6.4                 function Name:  cosine_similarity  Value  0.9476966276867815\n",
      "weight 6.3 length 5.8   weight 6.5 length 6.4                 function Name:  Jaccard_similarity  Value  0.6521739130434783\n",
      "weight 6.3 length 5.8   weight 6.5 length 6.4                 function Name:  Hamming_Dist  Value  2\n",
      "weight 6.3 length 5.8   weight 6.5 length 6.4                 function Name:  MED  Value  6\n",
      "weight 6.3 length 5.8   weight 6.5 length 6.4                 function Name:  longestsubseq  Value  18\n",
      "Minimum Value for  weight 6.3 length 5.8  &  weight 6.5 length 6.4  is  0.6521739130434783  of  Jaccard_similarity\n",
      "weight 9.5 length 9.9   weight 8.7 length 9.5                 function Name:  eclidian  Value  2.449489742783178\n",
      "weight 9.5 length 9.9   weight 8.7 length 9.5                 function Name:  manhattan  Value  4\n",
      "weight 9.5 length 9.9   weight 8.7 length 9.5                 function Name:  Chebychef  Value  2\n",
      "weight 9.5 length 9.9   weight 8.7 length 9.5                 function Name:  cosine_similarity  Value  0.9276125895432153\n",
      "weight 9.5 length 9.9   weight 8.7 length 9.5                 function Name:  Jaccard_similarity  Value  0.7272727272727273\n",
      "weight 9.5 length 9.9   weight 8.7 length 9.5                 function Name:  Hamming_Dist  Value  2\n",
      "weight 9.5 length 9.9   weight 8.7 length 9.5                 function Name:  MED  Value  6\n",
      "weight 9.5 length 9.9   weight 8.7 length 9.5                 function Name:  longestsubseq  Value  18\n",
      "Minimum Value for  weight 9.5 length 9.9  &  weight 8.7 length 9.5  is  0.7272727272727273  of  Jaccard_similarity\n",
      "weight 8.0 length 8.3   weight 9.7 length 9.9                 function Name:  eclidian  Value  4.0\n",
      "weight 8.0 length 8.3   weight 9.7 length 9.9                 function Name:  manhattan  Value  8\n",
      "weight 8.0 length 8.3   weight 9.7 length 9.9                 function Name:  Chebychef  Value  3\n",
      "weight 8.0 length 8.3   weight 9.7 length 9.9                 function Name:  cosine_similarity  Value  0.8058373793340822\n",
      "weight 8.0 length 8.3   weight 9.7 length 9.9                 function Name:  Jaccard_similarity  Value  0.5652173913043478\n",
      "weight 8.0 length 8.3   weight 9.7 length 9.9                 function Name:  Hamming_Dist  Value  3\n",
      "weight 8.0 length 8.3   weight 9.7 length 9.9                 function Name:  MED  Value  8\n",
      "weight 8.0 length 8.3   weight 9.7 length 9.9                 function Name:  longestsubseq  Value  17\n",
      "Minimum Value for  weight 8.0 length 8.3  &  weight 9.7 length 9.9  is  0.5652173913043478  of  Jaccard_similarity\n",
      "weight 8.9 length 8.9   weight 8.7 length 9.5                 function Name:  eclidian  Value  2.0\n",
      "weight 8.9 length 8.9   weight 8.7 length 9.5                 function Name:  manhattan  Value  4\n",
      "weight 8.9 length 8.9   weight 8.7 length 9.5                 function Name:  Chebychef  Value  1\n",
      "weight 8.9 length 8.9   weight 8.7 length 9.5                 function Name:  cosine_similarity  Value  0.9499679070317291\n",
      "weight 8.9 length 8.9   weight 8.7 length 9.5                 function Name:  Jaccard_similarity  Value  0.6818181818181818\n",
      "weight 8.9 length 8.9   weight 8.7 length 9.5                 function Name:  Hamming_Dist  Value  2\n",
      "weight 8.9 length 8.9   weight 8.7 length 9.5                 function Name:  MED  Value  6\n",
      "weight 8.9 length 8.9   weight 8.7 length 9.5                 function Name:  longestsubseq  Value  18\n",
      "Minimum Value for  weight 8.9 length 8.9  &  weight 8.7 length 9.5  is  0.6818181818181818  of  Jaccard_similarity\n",
      "weight 9.5 length 9.9   weight 6.3 length 5.4                 function Name:  eclidian  Value  3.4641016151377544\n",
      "weight 9.5 length 9.9   weight 6.3 length 5.4                 function Name:  manhattan  Value  6\n",
      "weight 9.5 length 9.9   weight 6.3 length 5.4                 function Name:  Chebychef  Value  3\n",
      "weight 9.5 length 9.9   weight 6.3 length 5.4                 function Name:  cosine_similarity  Value  0.8524007579586304\n",
      "weight 9.5 length 9.9   weight 6.3 length 5.4                 function Name:  Jaccard_similarity  Value  0.52\n",
      "weight 9.5 length 9.9   weight 6.3 length 5.4                 function Name:  Hamming_Dist  Value  3\n",
      "weight 9.5 length 9.9   weight 6.3 length 5.4                 function Name:  MED  Value  8\n",
      "weight 9.5 length 9.9   weight 6.3 length 5.4                 function Name:  longestsubseq  Value  17\n",
      "Minimum Value for  weight 9.5 length 9.9  &  weight 6.3 length 5.4  is  0.52  of  Jaccard_similarity\n",
      "weight 1.3 length 2.7   weight 2.3 length 3.1                 function Name:  eclidian  Value  1.4142135623730951\n",
      "weight 1.3 length 2.7   weight 2.3 length 3.1                 function Name:  manhattan  Value  2\n",
      "weight 1.3 length 2.7   weight 2.3 length 3.1                 function Name:  Chebychef  Value  1\n",
      "weight 1.3 length 2.7   weight 2.3 length 3.1                 function Name:  cosine_similarity  Value  0.9740215340114143\n",
      "weight 1.3 length 2.7   weight 2.3 length 3.1                 function Name:  Jaccard_similarity  Value  0.7391304347826086\n",
      "weight 1.3 length 2.7   weight 2.3 length 3.1                 function Name:  Hamming_Dist  Value  1\n",
      "weight 1.3 length 2.7   weight 2.3 length 3.1                 function Name:  MED  Value  6\n",
      "weight 1.3 length 2.7   weight 2.3 length 3.1                 function Name:  longestsubseq  Value  18\n",
      "Minimum Value for  weight 1.3 length 2.7  &  weight 2.3 length 3.1  is  0.7391304347826086  of  Jaccard_similarity\n",
      "weight 6.3 length 5.4   weight 8.7 length 9.5                 function Name:  eclidian  Value  2.449489742783178\n",
      "weight 6.3 length 5.4   weight 8.7 length 9.5                 function Name:  manhattan  Value  6\n",
      "weight 6.3 length 5.4   weight 8.7 length 9.5                 function Name:  Chebychef  Value  1\n",
      "weight 6.3 length 5.4   weight 8.7 length 9.5                 function Name:  cosine_similarity  Value  0.918918918918919\n",
      "weight 6.3 length 5.4   weight 8.7 length 9.5                 function Name:  Jaccard_similarity  Value  0.48148148148148145\n",
      "weight 6.3 length 5.4   weight 8.7 length 9.5                 function Name:  Hamming_Dist  Value  3\n",
      "weight 6.3 length 5.4   weight 8.7 length 9.5                 function Name:  MED  Value  8\n",
      "weight 6.3 length 5.4   weight 8.7 length 9.5                 function Name:  longestsubseq  Value  17\n",
      "Minimum Value for  weight 6.3 length 5.4  &  weight 8.7 length 9.5  is  0.48148148148148145  of  Jaccard_similarity\n",
      "weight 2.0 length 3.1   weight 6.5 length 6.4                 function Name:  eclidian  Value  3.1622776601683795\n",
      "weight 2.0 length 3.1   weight 6.5 length 6.4                 function Name:  manhattan  Value  8\n",
      "weight 2.0 length 3.1   weight 6.5 length 6.4                 function Name:  Chebychef  Value  2\n",
      "weight 2.0 length 3.1   weight 6.5 length 6.4                 function Name:  cosine_similarity  Value  0.8687219087128831\n",
      "weight 2.0 length 3.1   weight 6.5 length 6.4                 function Name:  Jaccard_similarity  Value  0.52\n",
      "weight 2.0 length 3.1   weight 6.5 length 6.4                 function Name:  Hamming_Dist  Value  4\n",
      "weight 2.0 length 3.1   weight 6.5 length 6.4                 function Name:  MED  Value  8\n",
      "weight 2.0 length 3.1   weight 6.5 length 6.4                 function Name:  longestsubseq  Value  17\n",
      "Minimum Value for  weight 2.0 length 3.1  &  weight 6.5 length 6.4  is  0.52  of  Jaccard_similarity\n",
      "weight 9.7 length 9.9   weight 2.5 length 3.8                 function Name:  eclidian  Value  3.7416573867739413\n",
      "weight 9.7 length 9.9   weight 2.5 length 3.8                 function Name:  manhattan  Value  8\n",
      "weight 9.7 length 9.9   weight 2.5 length 3.8                 function Name:  Chebychef  Value  3\n",
      "weight 9.7 length 9.9   weight 2.5 length 3.8                 function Name:  cosine_similarity  Value  0.8273301474304353\n",
      "weight 9.7 length 9.9   weight 2.5 length 3.8                 function Name:  Jaccard_similarity  Value  0.52\n",
      "weight 9.7 length 9.9   weight 2.5 length 3.8                 function Name:  Hamming_Dist  Value  4\n",
      "weight 9.7 length 9.9   weight 2.5 length 3.8                 function Name:  MED  Value  8\n",
      "weight 9.7 length 9.9   weight 2.5 length 3.8                 function Name:  longestsubseq  Value  17\n",
      "Minimum Value for  weight 9.7 length 9.9  &  weight 2.5 length 3.8  is  0.52  of  Jaccard_similarity\n",
      "weight 6.3 length 5.8   weight 8.9 length 8.9                 function Name:  eclidian  Value  2.8284271247461903\n",
      "weight 6.3 length 5.8   weight 8.9 length 8.9                 function Name:  manhattan  Value  6\n",
      "weight 6.3 length 5.8   weight 8.9 length 8.9                 function Name:  Chebychef  Value  2\n",
      "weight 6.3 length 5.8   weight 8.9 length 8.9                 function Name:  cosine_similarity  Value  0.8986182904354194\n",
      "weight 6.3 length 5.8   weight 8.9 length 8.9                 function Name:  Jaccard_similarity  Value  0.5416666666666666\n",
      "weight 6.3 length 5.8   weight 8.9 length 8.9                 function Name:  Hamming_Dist  Value  3\n",
      "weight 6.3 length 5.8   weight 8.9 length 8.9                 function Name:  MED  Value  8\n",
      "weight 6.3 length 5.8   weight 8.9 length 8.9                 function Name:  longestsubseq  Value  17\n",
      "Minimum Value for  weight 6.3 length 5.8  &  weight 8.9 length 8.9  is  0.5416666666666666  of  Jaccard_similarity\n"
     ]
    }
   ],
   "source": [
    "#Group1-Pairs INTRA-Groups\n",
    "#Pair 1\n",
    "run_all_dist_measures(G1_S1,G1_S2)\n",
    "run_all_dist_measures(G1_S4,G1_S1)\n",
    "run_all_dist_measures(G1_S5,G1_S3)\n",
    "#Group 2\n",
    "run_all_dist_measures(G2_S1,G2_S2)\n",
    "run_all_dist_measures(G2_S4,G2_S3)\n",
    "run_all_dist_measures(G2_S5,G2_S4)\n",
    "#Group 3\n",
    "run_all_dist_measures(G3_S3,G3_S5)\n",
    "run_all_dist_measures(G3_S2,G3_S1)\n",
    "run_all_dist_measures(G3_S4,G3_S5)\n",
    "\n",
    "#Inter-Groups Pairs\n",
    "\n",
    "run_all_dist_measures(G3_S3,G2_S2)\n",
    "run_all_dist_measures(G1_S1,G1_S2)\n",
    "run_all_dist_measures(G2_S2,G3_S5)\n",
    "run_all_dist_measures(G1_S4,G2_S4)\n",
    "run_all_dist_measures(G3_S1,G1_S3)\n",
    "run_all_dist_measures(G2_S5,G3_S4)\n",
    "\n"
   ]
  },
  {
   "cell_type": "markdown",
   "metadata": {
    "collapsed": true
   },
   "source": [
    "## Dataset 2\n"
   ]
  },
  {
   "cell_type": "code",
   "execution_count": 174,
   "metadata": {
    "collapsed": true
   },
   "outputs": [],
   "source": [
    "Genome1_S1='G T T T C T T T G A C C T T T T A'\n",
    "Genome1_S2='A C C G C T C T C T T A G A A G A'\n",
    "\n",
    "\n",
    "Genome2_S1='G A G A C A G A T A G C T T C T T'\n",
    "Genome2_S2='A C C G G T G C G C C A C C G T A'\n",
    "\n",
    "Genome3_S1='G G C A G T A C G A T C G C A C G'\n",
    "Genome3_S2='C C C C A T G T G A A C G A T T G'\n",
    "\n",
    "Genome4_S1='G T A A A C C C A G T G T C C T G'\n",
    "Genome4_S2='T G A G C G A C A A A A G C T T A'\n",
    "\n",
    "Genome5_S1='A A T G G G A A A T A C G C G C C'\n",
    "Genome5_S2='C A T A A C T T G G T G C G A A T'"
   ]
  },
  {
   "cell_type": "code",
   "execution_count": 175,
   "metadata": {},
   "outputs": [
    {
     "name": "stdout",
     "output_type": "stream",
     "text": [
      "G T T T C T T T G A C C T T T T A   A C C G C T C T C T T A G A A G A                 function Name:  eclidian  Value  7.0710678118654755\n",
      "G T T T C T T T G A C C T T T T A   A C C G C T C T C T T A G A A G A                 function Name:  manhattan  Value  12\n",
      "G T T T C T T T G A C C T T T T A   A C C G C T C T C T T A G A A G A                 function Name:  Chebychef  Value  6\n",
      "G T T T C T T T G A C C T T T T A   A C C G C T C T C T T A G A A G A                 function Name:  cosine_similarity  Value  0.9306349102138785\n",
      "G T T T C T T T G A C C T T T T A   A C C G C T C T C T T A G A A G A                 function Name:  Jaccard_similarity  Value  1.0\n",
      "G T T T C T T T G A C C T T T T A   A C C G C T C T C T T A G A A G A                 function Name:  Hamming_Dist  Value  0\n",
      "G T T T C T T T G A C C T T T T A   A C C G C T C T C T T A G A A G A                 function Name:  MED  Value  24\n",
      "G T T T C T T T G A C C T T T T A   A C C G C T C T C T T A G A A G A                 function Name:  longestsubseq  Value  21\n",
      "Minimum Value for  G T T T C T T T G A C C T T T T A  &  A C C G C T C T C T T A G A A G A  is  0  of  Hamming_Dist\n"
     ]
    }
   ],
   "source": [
    "run_all_dist_measures(Genome1_S1,Genome1_S2)"
   ]
  },
  {
   "cell_type": "code",
   "execution_count": 176,
   "metadata": {},
   "outputs": [
    {
     "name": "stdout",
     "output_type": "stream",
     "text": [
      "G A G A C A G A T A G C T T C T T   A C C G G T G C G C C A C C G T A                 function Name:  eclidian  Value  5.477225575051661\n",
      "G A G A C A G A T A G C T T C T T   A C C G G T G C G C C A C C G T A                 function Name:  manhattan  Value  10\n",
      "G A G A C A G A T A G C T T C T T   A C C G G T G C G C C A C C G T A                 function Name:  Chebychef  Value  4\n",
      "G A G A C A G A T A G C T T C T T   A C C G G T G C G C C A C C G T A                 function Name:  cosine_similarity  Value  0.9556410895842936\n",
      "G A G A C A G A T A G C T T C T T   A C C G G T G C G C C A C C G T A                 function Name:  Jaccard_similarity  Value  1.0\n",
      "G A G A C A G A T A G C T T C T T   A C C G G T G C G C C A C C G T A                 function Name:  Hamming_Dist  Value  0\n",
      "G A G A C A G A T A G C T T C T T   A C C G G T G C G C C A C C G T A                 function Name:  MED  Value  24\n",
      "G A G A C A G A T A G C T T C T T   A C C G G T G C G C C A C C G T A                 function Name:  longestsubseq  Value  21\n",
      "Minimum Value for  G A G A C A G A T A G C T T C T T  &  A C C G G T G C G C C A C C G T A  is  0  of  Hamming_Dist\n"
     ]
    }
   ],
   "source": [
    "run_all_dist_measures(Genome2_S1,Genome2_S2)"
   ]
  },
  {
   "cell_type": "code",
   "execution_count": 177,
   "metadata": {},
   "outputs": [
    {
     "name": "stdout",
     "output_type": "stream",
     "text": [
      "G G C A G T A C G A T C G C A C G   C C C C A T G T G A A C G A T T G                 function Name:  eclidian  Value  2.8284271247461903\n",
      "G G C A G T A C G A T C G C A C G   C C C C A T G T G A A C G A T T G                 function Name:  manhattan  Value  4\n",
      "G G C A G T A C G A T C G C A C G   C C C C A T G T G A A C G A T T G                 function Name:  Chebychef  Value  2\n",
      "G G C A G T A C G A T C G C A C G   C C C C A T G T G A A C G A T T G                 function Name:  cosine_similarity  Value  0.9880592733214132\n",
      "G G C A G T A C G A T C G C A C G   C C C C A T G T G A A C G A T T G                 function Name:  Jaccard_similarity  Value  1.0\n",
      "G G C A G T A C G A T C G C A C G   C C C C A T G T G A A C G A T T G                 function Name:  Hamming_Dist  Value  0\n",
      "G G C A G T A C G A T C G C A C G   C C C C A T G T G A A C G A T T G                 function Name:  MED  Value  20\n",
      "G G C A G T A C G A T C G C A C G   C C C C A T G T G A A C G A T T G                 function Name:  longestsubseq  Value  23\n",
      "Minimum Value for  G G C A G T A C G A T C G C A C G  &  C C C C A T G T G A A C G A T T G  is  0  of  Hamming_Dist\n"
     ]
    }
   ],
   "source": [
    "run_all_dist_measures(Genome3_S1,Genome3_S2)"
   ]
  },
  {
   "cell_type": "code",
   "execution_count": 178,
   "metadata": {},
   "outputs": [
    {
     "name": "stdout",
     "output_type": "stream",
     "text": [
      "G T A A A C C C A G T G T C C T G   T G A G C G A C A A A A G C T T A                 function Name:  eclidian  Value  3.7416573867739413\n",
      "G T A A A C C C A G T G T C C T G   T G A G C G A C A A A A G C T T A                 function Name:  manhattan  Value  6\n",
      "G T A A A C C C A G T G T C C T G   T G A G C G A C A A A A G C T T A                 function Name:  Chebychef  Value  3\n",
      "G T A A A C C C A G T G T C C T G   T G A G C G A C A A A A G C T T A                 function Name:  cosine_similarity  Value  0.9791516375745536\n",
      "G T A A A C C C A G T G T C C T G   T G A G C G A C A A A A G C T T A                 function Name:  Jaccard_similarity  Value  1.0\n",
      "G T A A A C C C A G T G T C C T G   T G A G C G A C A A A A G C T T A                 function Name:  Hamming_Dist  Value  0\n",
      "G T A A A C C C A G T G T C C T G   T G A G C G A C A A A A G C T T A                 function Name:  MED  Value  22\n",
      "G T A A A C C C A G T G T C C T G   T G A G C G A C A A A A G C T T A                 function Name:  longestsubseq  Value  22\n",
      "Minimum Value for  G T A A A C C C A G T G T C C T G  &  T G A G C G A C A A A A G C T T A  is  0  of  Hamming_Dist\n"
     ]
    }
   ],
   "source": [
    "run_all_dist_measures(Genome4_S1,Genome4_S2)"
   ]
  },
  {
   "cell_type": "code",
   "execution_count": 179,
   "metadata": {},
   "outputs": [
    {
     "name": "stdout",
     "output_type": "stream",
     "text": [
      "A A T G G G A A A T A C G C G C C   C A T A A C T T G G T G C G A A T                 function Name:  eclidian  Value  3.4641016151377544\n",
      "A A T G G G A A A T A C G C G C C   C A T A A C T T G G T G C G A A T                 function Name:  manhattan  Value  6\n",
      "A A T G G G A A A T A C G C G C C   C A T A A C T T G G T G C G A A T                 function Name:  Chebychef  Value  3\n",
      "A A T G G G A A A T A C G C G C C   C A T A A C T T G G T G C G A A T                 function Name:  cosine_similarity  Value  0.9820755443820866\n",
      "A A T G G G A A A T A C G C G C C   C A T A A C T T G G T G C G A A T                 function Name:  Jaccard_similarity  Value  1.0\n",
      "A A T G G G A A A T A C G C G C C   C A T A A C T T G G T G C G A A T                 function Name:  Hamming_Dist  Value  0\n",
      "A A T G G G A A A T A C G C G C C   C A T A A C T T G G T G C G A A T                 function Name:  MED  Value  24\n",
      "A A T G G G A A A T A C G C G C C   C A T A A C T T G G T G C G A A T                 function Name:  longestsubseq  Value  21\n",
      "Minimum Value for  A A T G G G A A A T A C G C G C C  &  C A T A A C T T G G T G C G A A T  is  0  of  Hamming_Dist\n"
     ]
    }
   ],
   "source": [
    "run_all_dist_measures(Genome5_S1,Genome5_S2)"
   ]
  },
  {
   "cell_type": "markdown",
   "metadata": {},
   "source": [
    "# # Dataset3"
   ]
  },
  {
   "cell_type": "code",
   "execution_count": 180,
   "metadata": {
    "collapsed": true
   },
   "outputs": [],
   "source": [
    "D3_G1_P1_W1='till kill'\n",
    "D3_G1_P2_W1='snail grail'\n",
    "D3_G1_P3_W1='idol doll'\n",
    "D3_G1_P4_W1='foil lion'\n",
    "D3_G1_P5_W1='feel leaf'\n",
    "D3_G1_P6_W1='shape posh'\n",
    "D3_G1_P7_W1='anime amuse'\n",
    "D3_G1_P8_W1='google lego'"
   ]
  },
  {
   "cell_type": "code",
   "execution_count": 181,
   "metadata": {},
   "outputs": [
    {
     "name": "stdout",
     "output_type": "stream",
     "text": [
      "till   kill                 function Name:  eclidian  Value  1.4142135623730951\n",
      "till   kill                 function Name:  manhattan  Value  2\n",
      "till   kill                 function Name:  Chebychef  Value  1\n",
      "till   kill                 function Name:  cosine_similarity  Value  0.8333333333333334\n",
      "till   kill                 function Name:  Jaccard_similarity  Value  0.5\n",
      "till   kill                 function Name:  Hamming_Dist  Value  1\n",
      "till   kill                 function Name:  MED  Value  2\n",
      "till   kill                 function Name:  longestsubseq  Value  3\n",
      "Minimum Value for  till  &  kill  is  0.5  of  Jaccard_similarity\n",
      "snail   grail                 function Name:  eclidian  Value  2.0\n",
      "snail   grail                 function Name:  manhattan  Value  4\n",
      "snail   grail                 function Name:  Chebychef  Value  1\n",
      "snail   grail                 function Name:  cosine_similarity  Value  0.6\n",
      "snail   grail                 function Name:  Jaccard_similarity  Value  0.3333333333333333\n",
      "snail   grail                 function Name:  Hamming_Dist  Value  2\n",
      "snail   grail                 function Name:  MED  Value  4\n",
      "snail   grail                 function Name:  longestsubseq  Value  3\n",
      "Minimum Value for  snail  &  grail  is  0.3333333333333333  of  Jaccard_similarity\n",
      "idol   doll                 function Name:  eclidian  Value  1.4142135623730951\n",
      "idol   doll                 function Name:  manhattan  Value  2\n",
      "idol   doll                 function Name:  Chebychef  Value  1\n",
      "idol   doll                 function Name:  cosine_similarity  Value  0.8164965809277261\n",
      "idol   doll                 function Name:  Jaccard_similarity  Value  0.5\n",
      "idol   doll                 function Name:  Hamming_Dist  Value  1\n",
      "idol   doll                 function Name:  MED  Value  2\n",
      "idol   doll                 function Name:  longestsubseq  Value  3\n",
      "Minimum Value for  idol  &  doll  is  0.5  of  Jaccard_similarity\n",
      "foil   lion                 function Name:  eclidian  Value  1.4142135623730951\n",
      "foil   lion                 function Name:  manhattan  Value  2\n",
      "foil   lion                 function Name:  Chebychef  Value  1\n",
      "foil   lion                 function Name:  cosine_similarity  Value  0.75\n",
      "foil   lion                 function Name:  Jaccard_similarity  Value  0.0\n",
      "foil   lion                 function Name:  Hamming_Dist  Value  1\n",
      "foil   lion                 function Name:  MED  Value  6\n",
      "foil   lion                 function Name:  longestsubseq  Value  1\n",
      "Minimum Value for  foil  &  lion  is  0.0  of  Jaccard_similarity\n",
      "feel   leaf                 function Name:  eclidian  Value  1.4142135623730951\n",
      "feel   leaf                 function Name:  manhattan  Value  2\n",
      "feel   leaf                 function Name:  Chebychef  Value  1\n",
      "feel   leaf                 function Name:  cosine_similarity  Value  0.8164965809277261\n",
      "feel   leaf                 function Name:  Jaccard_similarity  Value  0.0\n",
      "feel   leaf                 function Name:  Hamming_Dist  Value  1\n",
      "feel   leaf                 function Name:  MED  Value  6\n",
      "feel   leaf                 function Name:  longestsubseq  Value  1\n",
      "Minimum Value for  feel  &  leaf  is  0.0  of  Jaccard_similarity\n",
      "shape   posh                 function Name:  eclidian  Value  1.7320508075688772\n",
      "shape   posh                 function Name:  manhattan  Value  3\n",
      "shape   posh                 function Name:  Chebychef  Value  1\n",
      "shape   posh                 function Name:  cosine_similarity  Value  0.6708203932499369\n",
      "shape   posh                 function Name:  Jaccard_similarity  Value  0.16666666666666666\n",
      "shape   posh                 function Name:  Hamming_Dist  Value  2\n",
      "shape   posh                 function Name:  MED  Value  5\n",
      "shape   posh                 function Name:  longestsubseq  Value  2\n",
      "Minimum Value for  shape  &  posh  is  0.16666666666666666  of  Jaccard_similarity\n",
      "anime   amuse                 function Name:  eclidian  Value  2.0\n",
      "anime   amuse                 function Name:  manhattan  Value  4\n",
      "anime   amuse                 function Name:  Chebychef  Value  1\n",
      "anime   amuse                 function Name:  cosine_similarity  Value  0.6\n",
      "anime   amuse                 function Name:  Jaccard_similarity  Value  0.0\n",
      "anime   amuse                 function Name:  Hamming_Dist  Value  2\n",
      "anime   amuse                 function Name:  MED  Value  4\n",
      "anime   amuse                 function Name:  longestsubseq  Value  3\n",
      "Minimum Value for  anime  &  amuse  is  0.0  of  Jaccard_similarity\n",
      "google   lego                 function Name:  eclidian  Value  1.4142135623730951\n",
      "google   lego                 function Name:  manhattan  Value  2\n",
      "google   lego                 function Name:  Chebychef  Value  1\n",
      "google   lego                 function Name:  cosine_similarity  Value  0.9486832980505138\n",
      "google   lego                 function Name:  Jaccard_similarity  Value  0.3333333333333333\n",
      "google   lego                 function Name:  Hamming_Dist  Value  0\n",
      "google   lego                 function Name:  MED  Value  6\n",
      "google   lego                 function Name:  longestsubseq  Value  2\n",
      "Minimum Value for  google  &  lego  is  0  of  Hamming_Dist\n"
     ]
    }
   ],
   "source": [
    "run_all_dist_measures(D3_G1_P1_W1.split(' ')[0],D3_G1_P1_W1.split(' ')[1])\n",
    "run_all_dist_measures(D3_G1_P2_W1.split(' ')[0],D3_G1_P2_W1.split(' ')[1])\n",
    "run_all_dist_measures(D3_G1_P3_W1.split(' ')[0],D3_G1_P3_W1.split(' ')[1])\n",
    "run_all_dist_measures(D3_G1_P4_W1.split(' ')[0],D3_G1_P4_W1.split(' ')[1])\n",
    "run_all_dist_measures(D3_G1_P5_W1.split(' ')[0],D3_G1_P5_W1.split(' ')[1])\n",
    "run_all_dist_measures(D3_G1_P6_W1.split(' ')[0],D3_G1_P6_W1.split(' ')[1])\n",
    "run_all_dist_measures(D3_G1_P7_W1.split(' ')[0],D3_G1_P7_W1.split(' ')[1])\n",
    "run_all_dist_measures(D3_G1_P8_W1.split(' ')[0],D3_G1_P8_W1.split(' ')[1])"
   ]
  },
  {
   "cell_type": "code",
   "execution_count": 182,
   "metadata": {
    "collapsed": true
   },
   "outputs": [],
   "source": [
    "D3_G2_P1_W1='elephant relevant'\n",
    "D3_G2_P2_W1='figure freezing'\n",
    "D3_G2_P3_W1='background basketball'\n",
    "D3_G2_P4_W1='Pakistan Uzbekistan'\n",
    "D3_G2_P5_W1='levenshtein levels'\n",
    "D3_G2_P6_W1='categorical pedagogical'\n",
    "D3_G2_P7_W1='disposition preposition'\n",
    "D3_G2_P8_W1='complexion deflection'"
   ]
  },
  {
   "cell_type": "code",
   "execution_count": 183,
   "metadata": {},
   "outputs": [
    {
     "name": "stdout",
     "output_type": "stream",
     "text": [
      "elephant   relevant                 function Name:  eclidian  Value  2.0\n",
      "elephant   relevant                 function Name:  manhattan  Value  4\n",
      "elephant   relevant                 function Name:  Chebychef  Value  1\n",
      "elephant   relevant                 function Name:  cosine_similarity  Value  0.8\n",
      "elephant   relevant                 function Name:  Jaccard_similarity  Value  0.4\n",
      "elephant   relevant                 function Name:  Hamming_Dist  Value  2\n",
      "elephant   relevant                 function Name:  MED  Value  4\n",
      "elephant   relevant                 function Name:  longestsubseq  Value  6\n",
      "Minimum Value for  elephant  &  relevant  is  0.4  of  Jaccard_similarity\n",
      "figure   freezing                 function Name:  eclidian  Value  2.0\n",
      "figure   freezing                 function Name:  manhattan  Value  4\n",
      "figure   freezing                 function Name:  Chebychef  Value  1\n",
      "figure   freezing                 function Name:  cosine_similarity  Value  0.7745966692414834\n",
      "figure   freezing                 function Name:  Jaccard_similarity  Value  0.09090909090909091\n",
      "figure   freezing                 function Name:  Hamming_Dist  Value  2\n",
      "figure   freezing                 function Name:  MED  Value  8\n",
      "figure   freezing                 function Name:  longestsubseq  Value  3\n",
      "Minimum Value for  figure  &  freezing  is  0.09090909090909091  of  Jaccard_similarity\n",
      "background   basketball                 function Name:  eclidian  Value  4.0\n",
      "background   basketball                 function Name:  manhattan  Value  14\n",
      "background   basketball                 function Name:  Chebychef  Value  2\n",
      "background   basketball                 function Name:  cosine_similarity  Value  0.3952847075210474\n",
      "background   basketball                 function Name:  Jaccard_similarity  Value  0.0625\n",
      "background   basketball                 function Name:  Hamming_Dist  Value  7\n",
      "background   basketball                 function Name:  MED  Value  14\n",
      "background   basketball                 function Name:  longestsubseq  Value  3\n",
      "Minimum Value for  background  &  basketball  is  0.0625  of  Jaccard_similarity\n",
      "Pakistan   Uzbekistan                 function Name:  eclidian  Value  2.449489742783178\n",
      "Pakistan   Uzbekistan                 function Name:  manhattan  Value  6\n",
      "Pakistan   Uzbekistan                 function Name:  Chebychef  Value  1\n",
      "Pakistan   Uzbekistan                 function Name:  cosine_similarity  Value  0.7\n",
      "Pakistan   Uzbekistan                 function Name:  Jaccard_similarity  Value  0.45454545454545453\n",
      "Pakistan   Uzbekistan                 function Name:  Hamming_Dist  Value  4\n",
      "Pakistan   Uzbekistan                 function Name:  MED  Value  6\n",
      "Pakistan   Uzbekistan                 function Name:  longestsubseq  Value  6\n",
      "Minimum Value for  Pakistan  &  Uzbekistan  is  0.45454545454545453  of  Jaccard_similarity\n",
      "levenshtein   levels                 function Name:  eclidian  Value  3.0\n",
      "levenshtein   levels                 function Name:  manhattan  Value  7\n",
      "levenshtein   levels                 function Name:  Chebychef  Value  2\n",
      "levenshtein   levels                 function Name:  cosine_similarity  Value  0.7254762501100117\n",
      "levenshtein   levels                 function Name:  Jaccard_similarity  Value  0.25\n",
      "levenshtein   levels                 function Name:  Hamming_Dist  Value  4\n",
      "levenshtein   levels                 function Name:  MED  Value  7\n",
      "levenshtein   levels                 function Name:  longestsubseq  Value  5\n",
      "Minimum Value for  levenshtein  &  levels  is  0.25  of  Jaccard_similarity\n",
      "categorical   pedagogical                 function Name:  eclidian  Value  2.449489742783178\n",
      "categorical   pedagogical                 function Name:  manhattan  Value  6\n",
      "categorical   pedagogical                 function Name:  Chebychef  Value  1\n",
      "categorical   pedagogical                 function Name:  cosine_similarity  Value  0.8\n",
      "categorical   pedagogical                 function Name:  Jaccard_similarity  Value  0.26666666666666666\n",
      "categorical   pedagogical                 function Name:  Hamming_Dist  Value  2\n",
      "categorical   pedagogical                 function Name:  MED  Value  8\n",
      "categorical   pedagogical                 function Name:  longestsubseq  Value  7\n",
      "Minimum Value for  categorical  &  pedagogical  is  0.26666666666666666  of  Jaccard_similarity\n",
      "disposition   preposition                 function Name:  eclidian  Value  2.449489742783178\n",
      "disposition   preposition                 function Name:  manhattan  Value  6\n",
      "disposition   preposition                 function Name:  Chebychef  Value  1\n",
      "disposition   preposition                 function Name:  cosine_similarity  Value  0.846809798439941\n",
      "disposition   preposition                 function Name:  Jaccard_similarity  Value  0.5384615384615384\n",
      "disposition   preposition                 function Name:  Hamming_Dist  Value  2\n",
      "disposition   preposition                 function Name:  MED  Value  6\n",
      "disposition   preposition                 function Name:  longestsubseq  Value  8\n",
      "Minimum Value for  disposition  &  preposition  is  0.5384615384615384  of  Jaccard_similarity\n",
      "complexion   deflection                 function Name:  eclidian  Value  2.8284271247461903\n",
      "complexion   deflection                 function Name:  manhattan  Value  8\n",
      "complexion   deflection                 function Name:  Chebychef  Value  1\n",
      "complexion   deflection                 function Name:  cosine_similarity  Value  0.6666666666666666\n",
      "complexion   deflection                 function Name:  Jaccard_similarity  Value  0.2\n",
      "complexion   deflection                 function Name:  Hamming_Dist  Value  3\n",
      "complexion   deflection                 function Name:  MED  Value  10\n",
      "complexion   deflection                 function Name:  longestsubseq  Value  5\n",
      "Minimum Value for  complexion  &  deflection  is  0.2  of  Jaccard_similarity\n"
     ]
    }
   ],
   "source": [
    "run_all_dist_measures(D3_G2_P1_W1.split(' ')[0],D3_G2_P1_W1.split(' ')[1])\n",
    "run_all_dist_measures(D3_G2_P2_W1.split(' ')[0],D3_G2_P2_W1.split(' ')[1])\n",
    "run_all_dist_measures(D3_G2_P3_W1.split(' ')[0],D3_G2_P3_W1.split(' ')[1])\n",
    "run_all_dist_measures(D3_G2_P4_W1.split(' ')[0],D3_G2_P4_W1.split(' ')[1])\n",
    "run_all_dist_measures(D3_G2_P5_W1.split(' ')[0],D3_G2_P5_W1.split(' ')[1])\n",
    "run_all_dist_measures(D3_G2_P6_W1.split(' ')[0],D3_G2_P6_W1.split(' ')[1])\n",
    "run_all_dist_measures(D3_G2_P7_W1.split(' ')[0],D3_G2_P7_W1.split(' ')[1])\n",
    "run_all_dist_measures(D3_G2_P8_W1.split(' ')[0],D3_G2_P8_W1.split(' ')[1])"
   ]
  },
  {
   "cell_type": "code",
   "execution_count": null,
   "metadata": {
    "collapsed": true
   },
   "outputs": [],
   "source": []
  }
 ],
 "metadata": {
  "kernelspec": {
   "display_name": "Python 3",
   "language": "python",
   "name": "python3"
  },
  "language_info": {
   "codemirror_mode": {
    "name": "ipython",
    "version": 3
   },
   "file_extension": ".py",
   "mimetype": "text/x-python",
   "name": "python",
   "nbconvert_exporter": "python",
   "pygments_lexer": "ipython3",
   "version": "3.6.1"
  }
 },
 "nbformat": 4,
 "nbformat_minor": 2
}
